{
  "nbformat": 4,
  "nbformat_minor": 0,
  "metadata": {
    "colab": {
      "provenance": []
    },
    "kernelspec": {
      "name": "python3",
      "display_name": "Python 3"
    },
    "language_info": {
      "name": "python"
    }
  },
  "cells": [
    {
      "cell_type": "code",
      "source": [
        "import os\n",
        "import pandas as pd\n",
        "import numpy as np\n",
        "import matplotlib.pyplot as plt\n",
        "\n",
        "df=pd.read_csv('/content/Luxury_Housing_Bangalore.csv')\n",
        "print(df.info())"
      ],
      "metadata": {
        "colab": {
          "base_uri": "https://localhost:8080/"
        },
        "id": "j1Gw4DY58AgH",
        "outputId": "6e48697b-ed98-40e8-e523-15b690afc1ad"
      },
      "execution_count": 54,
      "outputs": [
        {
          "output_type": "stream",
          "name": "stdout",
          "text": [
            "<class 'pandas.core.frame.DataFrame'>\n",
            "RangeIndex: 101000 entries, 0 to 100999\n",
            "Data columns (total 18 columns):\n",
            " #   Column                Non-Null Count   Dtype  \n",
            "---  ------                --------------   -----  \n",
            " 0   Property_ID           101000 non-null  object \n",
            " 1   Micro_Market          101000 non-null  object \n",
            " 2   Project_Name          101000 non-null  object \n",
            " 3   Developer_Name        101000 non-null  object \n",
            " 4   Unit_Size_Sqft        90954 non-null   float64\n",
            " 5   Configuration         101000 non-null  object \n",
            " 6   Ticket_Price_Cr       90981 non-null   object \n",
            " 7   Transaction_Type      101000 non-null  object \n",
            " 8   Buyer_Type            101000 non-null  object \n",
            " 9   Purchase_Quarter      101000 non-null  object \n",
            " 10  Connectivity_Score    101000 non-null  float64\n",
            " 11  Amenity_Score         90910 non-null   float64\n",
            " 12  Possession_Status     101000 non-null  object \n",
            " 13  Sales_Channel         101000 non-null  object \n",
            " 14  NRI_Buyer             101000 non-null  object \n",
            " 15  Locality_Infra_Score  101000 non-null  float64\n",
            " 16  Avg_Traffic_Time_Min  101000 non-null  int64  \n",
            " 17  Buyer_Comments        82713 non-null   object \n",
            "dtypes: float64(4), int64(1), object(13)\n",
            "memory usage: 13.9+ MB\n",
            "None\n"
          ]
        }
      ]
    },
    {
      "cell_type": "code",
      "source": [
        "print(df.columns)"
      ],
      "metadata": {
        "colab": {
          "base_uri": "https://localhost:8080/"
        },
        "id": "r8NHa1FL8pRe",
        "outputId": "b755b371-90e6-4233-e45d-cc8048dd84bb"
      },
      "execution_count": 55,
      "outputs": [
        {
          "output_type": "stream",
          "name": "stdout",
          "text": [
            "Index(['Property_ID', 'Micro_Market', 'Project_Name', 'Developer_Name',\n",
            "       'Unit_Size_Sqft', 'Configuration', 'Ticket_Price_Cr',\n",
            "       'Transaction_Type', 'Buyer_Type', 'Purchase_Quarter',\n",
            "       'Connectivity_Score', 'Amenity_Score', 'Possession_Status',\n",
            "       'Sales_Channel', 'NRI_Buyer', 'Locality_Infra_Score',\n",
            "       'Avg_Traffic_Time_Min', 'Buyer_Comments'],\n",
            "      dtype='object')\n"
          ]
        }
      ]
    },
    {
      "cell_type": "code",
      "source": [
        "print(df.isnull().sum())"
      ],
      "metadata": {
        "colab": {
          "base_uri": "https://localhost:8080/"
        },
        "id": "C4gIEz6c8sCe",
        "outputId": "91ba7608-6177-4cfd-e5bc-ea402b4e4f47"
      },
      "execution_count": 56,
      "outputs": [
        {
          "output_type": "stream",
          "name": "stdout",
          "text": [
            "Property_ID                 0\n",
            "Micro_Market                0\n",
            "Project_Name                0\n",
            "Developer_Name              0\n",
            "Unit_Size_Sqft          10046\n",
            "Configuration               0\n",
            "Ticket_Price_Cr         10019\n",
            "Transaction_Type            0\n",
            "Buyer_Type                  0\n",
            "Purchase_Quarter            0\n",
            "Connectivity_Score          0\n",
            "Amenity_Score           10090\n",
            "Possession_Status           0\n",
            "Sales_Channel               0\n",
            "NRI_Buyer                   0\n",
            "Locality_Infra_Score        0\n",
            "Avg_Traffic_Time_Min        0\n",
            "Buyer_Comments          18287\n",
            "dtype: int64\n"
          ]
        }
      ]
    },
    {
      "cell_type": "code",
      "source": [
        "df['Micro_Market']=df['Micro_Market'].str.title().str.strip()\n",
        "print(df['Micro_Market'])"
      ],
      "metadata": {
        "colab": {
          "base_uri": "https://localhost:8080/"
        },
        "id": "c-cqOHfO8vFc",
        "outputId": "964e510a-fcbe-4b13-c16a-a8d34a196317"
      },
      "execution_count": 57,
      "outputs": [
        {
          "output_type": "stream",
          "name": "stdout",
          "text": [
            "0             Sarjapur Road\n",
            "1               Indiranagar\n",
            "2         Bannerghatta Road\n",
            "3              Bellary Road\n",
            "4               Koramangala\n",
            "                ...        \n",
            "100995         Bellary Road\n",
            "100996         Bellary Road\n",
            "100997          Hennur Road\n",
            "100998          Rajajinagar\n",
            "100999           Whitefield\n",
            "Name: Micro_Market, Length: 101000, dtype: object\n"
          ]
        }
      ]
    },
    {
      "cell_type": "code",
      "source": [
        "#Unit_Size_Sqft\n",
        "print('Total number of null values in Original:',df['Unit_Size_Sqft'].isnull().sum())\n",
        "df['Unit_Size_Sqft']=df['Unit_Size_Sqft'].fillna(df['Unit_Size_Sqft'].mean())\n",
        "\n",
        "df['Unit_Size_Sqft']=df['Unit_Size_Sqft'].astype(int)\n",
        "print('Total number of null values in Cleaned:',df['Unit_Size_Sqft'].isnull().sum())"
      ],
      "metadata": {
        "colab": {
          "base_uri": "https://localhost:8080/"
        },
        "id": "r1xUTQ4C9UgA",
        "outputId": "80811ab5-19a1-4133-e147-f4a26f466bde"
      },
      "execution_count": 58,
      "outputs": [
        {
          "output_type": "stream",
          "name": "stdout",
          "text": [
            "Total number of null values in Original: 10046\n",
            "Total number of null values in Cleaned: 0\n"
          ]
        }
      ]
    },
    {
      "cell_type": "code",
      "source": [
        "df.loc[:,'Configuration']=df['Configuration'].astype(str).str.upper()"
      ],
      "metadata": {
        "id": "o6bw9t3a9Uem"
      },
      "execution_count": 59,
      "outputs": []
    },
    {
      "cell_type": "code",
      "source": [
        "df.loc[:,'Ticket_Price_Cr']=(df['Ticket_Price_Cr'].astype(str).str.replace('Cr','',regex=False)\n",
        "                             .str.replace('₹', '', regex=False).str.strip().astype(float))"
      ],
      "metadata": {
        "id": "V-3m_hHCAN6f"
      },
      "execution_count": 60,
      "outputs": []
    },
    {
      "cell_type": "code",
      "source": [
        "df[\"Ticket_Price_Cr\"] = pd.to_numeric(df[\"Ticket_Price_Cr\"], errors=\"coerce\")\n",
        "df[\"Ticket_Price_Cr\"] = df[\"Ticket_Price_Cr\"].mask(df[\"Ticket_Price_Cr\"] <= 0, np.nan)\n",
        "mean_value = df[\"Ticket_Price_Cr\"].mean(skipna=True)\n",
        "df[\"Ticket_Price_Cr\"] = df[\"Ticket_Price_Cr\"].fillna(mean_value)\n",
        "mean_value = df[\"Ticket_Price_Cr\"].mean(skipna=True)\n",
        "df[\"Ticket_Price_Cr\"] = df[\"Ticket_Price_Cr\"].fillna(mean_value)\n",
        "print('Total no of null values in Ticket Price',df['Ticket_Price_Cr'].isnull().sum())"
      ],
      "metadata": {
        "colab": {
          "base_uri": "https://localhost:8080/"
        },
        "id": "R0oNTnVAAXc6",
        "outputId": "fa68a815-1058-44a6-c4ad-3f5172ad5bf8"
      },
      "execution_count": 61,
      "outputs": [
        {
          "output_type": "stream",
          "name": "stdout",
          "text": [
            "Total no of null values in Ticket Price 0\n"
          ]
        }
      ]
    },
    {
      "cell_type": "code",
      "source": [
        "print(df['Transaction_Type'].value_counts())"
      ],
      "metadata": {
        "colab": {
          "base_uri": "https://localhost:8080/"
        },
        "id": "13AgT1cKAt2q",
        "outputId": "69202af4-49d9-4717-d1b3-ee5494ba4436"
      },
      "execution_count": 62,
      "outputs": [
        {
          "output_type": "stream",
          "name": "stdout",
          "text": [
            "Transaction_Type\n",
            "Secondary    50506\n",
            "Primary      50494\n",
            "Name: count, dtype: int64\n"
          ]
        }
      ]
    },
    {
      "cell_type": "code",
      "source": [
        "df['Connectivity_Score']=df['Connectivity_Score'].round(2)\n",
        "print(df['Connectivity_Score'])"
      ],
      "metadata": {
        "colab": {
          "base_uri": "https://localhost:8080/"
        },
        "id": "VS-4vX6WAu2q",
        "outputId": "66daed77-1267-41f5-b79a-7acc992b40ff"
      },
      "execution_count": 63,
      "outputs": [
        {
          "output_type": "stream",
          "name": "stdout",
          "text": [
            "0         7.99\n",
            "1         4.84\n",
            "2         8.13\n",
            "3         7.50\n",
            "4         4.53\n",
            "          ... \n",
            "100995    8.55\n",
            "100996    6.88\n",
            "100997    6.75\n",
            "100998    4.44\n",
            "100999    7.76\n",
            "Name: Connectivity_Score, Length: 101000, dtype: float64\n"
          ]
        }
      ]
    },
    {
      "cell_type": "code",
      "source": [
        "df['Amenity_Score'] = df['Amenity_Score'].fillna(df['Amenity_Score'].mean())\n",
        "df['Amenity_Score'].isna().sum()"
      ],
      "metadata": {
        "colab": {
          "base_uri": "https://localhost:8080/"
        },
        "id": "ido0oPslCJf2",
        "outputId": "9bd8b650-61f3-49e8-eed1-2b99e095b823"
      },
      "execution_count": 64,
      "outputs": [
        {
          "output_type": "execute_result",
          "data": {
            "text/plain": [
              "np.int64(0)"
            ]
          },
          "metadata": {},
          "execution_count": 64
        }
      ]
    },
    {
      "cell_type": "code",
      "source": [
        "df['Buyer_Comments'] = df['Buyer_Comments'].fillna('No comments')\n",
        "df.isna().sum()"
      ],
      "metadata": {
        "colab": {
          "base_uri": "https://localhost:8080/",
          "height": 648
        },
        "id": "ng1t2dCWCqXp",
        "outputId": "0ea828eb-ab37-4377-ba72-404f63956d0a"
      },
      "execution_count": 65,
      "outputs": [
        {
          "output_type": "execute_result",
          "data": {
            "text/plain": [
              "Property_ID             0\n",
              "Micro_Market            0\n",
              "Project_Name            0\n",
              "Developer_Name          0\n",
              "Unit_Size_Sqft          0\n",
              "Configuration           0\n",
              "Ticket_Price_Cr         0\n",
              "Transaction_Type        0\n",
              "Buyer_Type              0\n",
              "Purchase_Quarter        0\n",
              "Connectivity_Score      0\n",
              "Amenity_Score           0\n",
              "Possession_Status       0\n",
              "Sales_Channel           0\n",
              "NRI_Buyer               0\n",
              "Locality_Infra_Score    0\n",
              "Avg_Traffic_Time_Min    0\n",
              "Buyer_Comments          0\n",
              "dtype: int64"
            ],
            "text/html": [
              "<div>\n",
              "<style scoped>\n",
              "    .dataframe tbody tr th:only-of-type {\n",
              "        vertical-align: middle;\n",
              "    }\n",
              "\n",
              "    .dataframe tbody tr th {\n",
              "        vertical-align: top;\n",
              "    }\n",
              "\n",
              "    .dataframe thead th {\n",
              "        text-align: right;\n",
              "    }\n",
              "</style>\n",
              "<table border=\"1\" class=\"dataframe\">\n",
              "  <thead>\n",
              "    <tr style=\"text-align: right;\">\n",
              "      <th></th>\n",
              "      <th>0</th>\n",
              "    </tr>\n",
              "  </thead>\n",
              "  <tbody>\n",
              "    <tr>\n",
              "      <th>Property_ID</th>\n",
              "      <td>0</td>\n",
              "    </tr>\n",
              "    <tr>\n",
              "      <th>Micro_Market</th>\n",
              "      <td>0</td>\n",
              "    </tr>\n",
              "    <tr>\n",
              "      <th>Project_Name</th>\n",
              "      <td>0</td>\n",
              "    </tr>\n",
              "    <tr>\n",
              "      <th>Developer_Name</th>\n",
              "      <td>0</td>\n",
              "    </tr>\n",
              "    <tr>\n",
              "      <th>Unit_Size_Sqft</th>\n",
              "      <td>0</td>\n",
              "    </tr>\n",
              "    <tr>\n",
              "      <th>Configuration</th>\n",
              "      <td>0</td>\n",
              "    </tr>\n",
              "    <tr>\n",
              "      <th>Ticket_Price_Cr</th>\n",
              "      <td>0</td>\n",
              "    </tr>\n",
              "    <tr>\n",
              "      <th>Transaction_Type</th>\n",
              "      <td>0</td>\n",
              "    </tr>\n",
              "    <tr>\n",
              "      <th>Buyer_Type</th>\n",
              "      <td>0</td>\n",
              "    </tr>\n",
              "    <tr>\n",
              "      <th>Purchase_Quarter</th>\n",
              "      <td>0</td>\n",
              "    </tr>\n",
              "    <tr>\n",
              "      <th>Connectivity_Score</th>\n",
              "      <td>0</td>\n",
              "    </tr>\n",
              "    <tr>\n",
              "      <th>Amenity_Score</th>\n",
              "      <td>0</td>\n",
              "    </tr>\n",
              "    <tr>\n",
              "      <th>Possession_Status</th>\n",
              "      <td>0</td>\n",
              "    </tr>\n",
              "    <tr>\n",
              "      <th>Sales_Channel</th>\n",
              "      <td>0</td>\n",
              "    </tr>\n",
              "    <tr>\n",
              "      <th>NRI_Buyer</th>\n",
              "      <td>0</td>\n",
              "    </tr>\n",
              "    <tr>\n",
              "      <th>Locality_Infra_Score</th>\n",
              "      <td>0</td>\n",
              "    </tr>\n",
              "    <tr>\n",
              "      <th>Avg_Traffic_Time_Min</th>\n",
              "      <td>0</td>\n",
              "    </tr>\n",
              "    <tr>\n",
              "      <th>Buyer_Comments</th>\n",
              "      <td>0</td>\n",
              "    </tr>\n",
              "  </tbody>\n",
              "</table>\n",
              "</div><br><label><b>dtype:</b> int64</label>"
            ]
          },
          "metadata": {},
          "execution_count": 65
        }
      ]
    },
    {
      "cell_type": "code",
      "source": [
        "df[\"Price_per_Sqft\"] = df[\"Ticket_Price_Cr\"] * 10000000 / df[\"Unit_Size_Sqft\"]"
      ],
      "metadata": {
        "id": "njejZD5zCtep"
      },
      "execution_count": 66,
      "outputs": []
    },
    {
      "cell_type": "code",
      "source": [
        "df['Purchase_Quarter'] = pd.to_datetime(df['Purchase_Quarter'], errors='coerce')\n",
        "df['Quarter_Number'] = (df['Purchase_Quarter'].dt.quarter\n",
        "    .fillna(0)\n",
        "    .astype(int))\n",
        "print(df['Quarter_Number'].value_counts())"
      ],
      "metadata": {
        "colab": {
          "base_uri": "https://localhost:8080/"
        },
        "id": "dHLLncOqCzRu",
        "outputId": "57804614-98da-4b97-d4fa-1019cf011476"
      },
      "execution_count": 67,
      "outputs": [
        {
          "output_type": "stream",
          "name": "stdout",
          "text": [
            "Quarter_Number\n",
            "3    25301\n",
            "1    25281\n",
            "2    25263\n",
            "4    25155\n",
            "Name: count, dtype: int64\n"
          ]
        },
        {
          "output_type": "stream",
          "name": "stderr",
          "text": [
            "/tmp/ipython-input-2954373349.py:1: UserWarning: Parsing dates in %d-%m-%Y format when dayfirst=False (the default) was specified. Pass `dayfirst=True` or specify a format to silence this warning.\n",
            "  df['Purchase_Quarter'] = pd.to_datetime(df['Purchase_Quarter'], errors='coerce')\n"
          ]
        }
      ]
    },
    {
      "cell_type": "code",
      "source": [
        "df['Connectivity_Score']=df['Connectivity_Score'].round(2)\n",
        "print(df['Connectivity_Score'])"
      ],
      "metadata": {
        "colab": {
          "base_uri": "https://localhost:8080/"
        },
        "id": "XoRqiBLiEW1p",
        "outputId": "98e171d6-0c2e-4b96-f54d-23d17385f0bd"
      },
      "execution_count": 68,
      "outputs": [
        {
          "output_type": "stream",
          "name": "stdout",
          "text": [
            "0         7.99\n",
            "1         4.84\n",
            "2         8.13\n",
            "3         7.50\n",
            "4         4.53\n",
            "          ... \n",
            "100995    8.55\n",
            "100996    6.88\n",
            "100997    6.75\n",
            "100998    4.44\n",
            "100999    7.76\n",
            "Name: Connectivity_Score, Length: 101000, dtype: float64\n"
          ]
        }
      ]
    },
    {
      "cell_type": "code",
      "source": [
        "df['NRI_Buyer']=df['NRI_Buyer'].map({'yes':True, 'no':False})"
      ],
      "metadata": {
        "id": "IPOqqI4oEbS6"
      },
      "execution_count": 69,
      "outputs": []
    },
    {
      "cell_type": "code",
      "source": [
        "df[\"Booking_Flag\"] = np.where(df[\"Possession_Status\"].str.lower().str.contains(\"launch\"), 1, 0)"
      ],
      "metadata": {
        "id": "NdswNgLOEcOA"
      },
      "execution_count": 70,
      "outputs": []
    },
    {
      "cell_type": "code",
      "source": [
        "df = df.rename(columns={\n",
        "    \"Property_ID\": \"Project_ID\",\n",
        "    \"Developer_Name\": \"Builder\",\n",
        "    \"Booking_Flag\": \"Booking_Status\"\n",
        "})"
      ],
      "metadata": {
        "id": "2SEOByz9Ej5G"
      },
      "execution_count": 71,
      "outputs": []
    },
    {
      "cell_type": "code",
      "source": [
        "df"
      ],
      "metadata": {
        "colab": {
          "base_uri": "https://localhost:8080/",
          "height": 599
        },
        "id": "_E8WmaBAEnlU",
        "outputId": "99dcf06e-ecf7-4d03-91bd-5db29d4ee568"
      },
      "execution_count": 72,
      "outputs": [
        {
          "output_type": "execute_result",
          "data": {
            "text/plain": [
              "        Project_ID       Micro_Market Project_Name       Builder  \\\n",
              "0       PROP000001      Sarjapur Road    Project_0           RMZ   \n",
              "1       PROP000002        Indiranagar    Project_1   Puravankara   \n",
              "2       PROP000003  Bannerghatta Road    Project_2  Tata Housing   \n",
              "3       PROP000004       Bellary Road    Project_3       Embassy   \n",
              "4       PROP000005        Koramangala    Project_4       SNN Raj   \n",
              "...            ...                ...          ...           ...   \n",
              "100995  PROP004730       Bellary Road  Project_229       Embassy   \n",
              "100996  PROP059810       Bellary Road  Project_309       Brigade   \n",
              "100997  PROP065099        Hennur Road   Project_98           RMZ   \n",
              "100998  PROP093022        Rajajinagar   Project_21       Embassy   \n",
              "100999  PROP023826         Whitefield  Project_325    L&T Realty   \n",
              "\n",
              "        Unit_Size_Sqft Configuration  Ticket_Price_Cr Transaction_Type  \\\n",
              "0                 4025          4BHK        12.750846          Primary   \n",
              "1                 5760          3BHK        16.292152          Primary   \n",
              "2                 7707          4BHK        10.517724          Primary   \n",
              "3                 6192          3BHK         9.396367          Primary   \n",
              "4                 7147          4BHK        15.345392        Secondary   \n",
              "...                ...           ...              ...              ...   \n",
              "100995            8546         5BHK+        11.330810        Secondary   \n",
              "100996            3408          3BHK        10.829373          Primary   \n",
              "100997            4691          4BHK        11.183303          Primary   \n",
              "100998            7435          3BHK        10.914156        Secondary   \n",
              "100999            3218          4BHK        13.270000          Primary   \n",
              "\n",
              "             Buyer_Type Purchase_Quarter  ...  Amenity_Score  \\\n",
              "0                   NRI       2025-03-31  ...       5.462863   \n",
              "1                 Other       2024-06-30  ...       7.503663   \n",
              "2                   HNI       2023-12-31  ...       8.669227   \n",
              "3                   HNI       2024-03-31  ...       5.720246   \n",
              "4                   HNI       2024-12-31  ...       8.609649   \n",
              "...                 ...              ...  ...            ...   \n",
              "100995              CXO       2024-12-31  ...       6.221131   \n",
              "100996              CXO       2024-09-30  ...       9.783611   \n",
              "100997              NRI       2023-12-31  ...       8.383013   \n",
              "100998            Other       2024-06-30  ...       5.756247   \n",
              "100999  Startup Founder       2023-12-31  ...       9.989290   \n",
              "\n",
              "         Possession_Status Sales_Channel NRI_Buyer  Locality_Infra_Score  \\\n",
              "0                   Launch        Broker      True              9.212491   \n",
              "1       Under construction      NRI Desk     False              7.723898   \n",
              "2            Ready to move        Direct      True              6.985493   \n",
              "3            Ready to move        Online      True              6.100929   \n",
              "4       Under construction        Broker     False              5.312510   \n",
              "...                    ...           ...       ...                   ...   \n",
              "100995  Under construction      NRI Desk     False              7.511827   \n",
              "100996       Ready to move        Direct     False              9.851849   \n",
              "100997  Under construction        Broker     False              9.101604   \n",
              "100998  Under construction        Broker      True              8.588551   \n",
              "100999  Under construction        Direct      True              9.917647   \n",
              "\n",
              "        Avg_Traffic_Time_Min              Buyer_Comments Price_per_Sqft  \\\n",
              "0                         18        Loved the amenities!   31679.120596   \n",
              "1                        106                 No comments   28284.985885   \n",
              "2                        113   Agent was not responsive.   13646.976009   \n",
              "3                        106         Excellent location!   15175.012103   \n",
              "4                         18     Too far from my office.   21471.096180   \n",
              "...                      ...                         ...            ...   \n",
              "100995                    22  Will buy after possession.   13258.612263   \n",
              "100996                    26   Agent was not responsive.   31776.329695   \n",
              "100997                    44        Loved the amenities!   23839.912918   \n",
              "100998                    66         Excellent location!   14679.430235   \n",
              "100999                    58        Loved the amenities!   41236.793039   \n",
              "\n",
              "        Quarter_Number  Booking_Status  \n",
              "0                    1               1  \n",
              "1                    2               0  \n",
              "2                    4               0  \n",
              "3                    1               0  \n",
              "4                    4               0  \n",
              "...                ...             ...  \n",
              "100995               4               0  \n",
              "100996               3               0  \n",
              "100997               4               0  \n",
              "100998               2               0  \n",
              "100999               4               0  \n",
              "\n",
              "[101000 rows x 21 columns]"
            ],
            "text/html": [
              "\n",
              "  <div id=\"df-6d27d156-3112-42fd-92bb-77d1135e44a3\" class=\"colab-df-container\">\n",
              "    <div>\n",
              "<style scoped>\n",
              "    .dataframe tbody tr th:only-of-type {\n",
              "        vertical-align: middle;\n",
              "    }\n",
              "\n",
              "    .dataframe tbody tr th {\n",
              "        vertical-align: top;\n",
              "    }\n",
              "\n",
              "    .dataframe thead th {\n",
              "        text-align: right;\n",
              "    }\n",
              "</style>\n",
              "<table border=\"1\" class=\"dataframe\">\n",
              "  <thead>\n",
              "    <tr style=\"text-align: right;\">\n",
              "      <th></th>\n",
              "      <th>Project_ID</th>\n",
              "      <th>Micro_Market</th>\n",
              "      <th>Project_Name</th>\n",
              "      <th>Builder</th>\n",
              "      <th>Unit_Size_Sqft</th>\n",
              "      <th>Configuration</th>\n",
              "      <th>Ticket_Price_Cr</th>\n",
              "      <th>Transaction_Type</th>\n",
              "      <th>Buyer_Type</th>\n",
              "      <th>Purchase_Quarter</th>\n",
              "      <th>...</th>\n",
              "      <th>Amenity_Score</th>\n",
              "      <th>Possession_Status</th>\n",
              "      <th>Sales_Channel</th>\n",
              "      <th>NRI_Buyer</th>\n",
              "      <th>Locality_Infra_Score</th>\n",
              "      <th>Avg_Traffic_Time_Min</th>\n",
              "      <th>Buyer_Comments</th>\n",
              "      <th>Price_per_Sqft</th>\n",
              "      <th>Quarter_Number</th>\n",
              "      <th>Booking_Status</th>\n",
              "    </tr>\n",
              "  </thead>\n",
              "  <tbody>\n",
              "    <tr>\n",
              "      <th>0</th>\n",
              "      <td>PROP000001</td>\n",
              "      <td>Sarjapur Road</td>\n",
              "      <td>Project_0</td>\n",
              "      <td>RMZ</td>\n",
              "      <td>4025</td>\n",
              "      <td>4BHK</td>\n",
              "      <td>12.750846</td>\n",
              "      <td>Primary</td>\n",
              "      <td>NRI</td>\n",
              "      <td>2025-03-31</td>\n",
              "      <td>...</td>\n",
              "      <td>5.462863</td>\n",
              "      <td>Launch</td>\n",
              "      <td>Broker</td>\n",
              "      <td>True</td>\n",
              "      <td>9.212491</td>\n",
              "      <td>18</td>\n",
              "      <td>Loved the amenities!</td>\n",
              "      <td>31679.120596</td>\n",
              "      <td>1</td>\n",
              "      <td>1</td>\n",
              "    </tr>\n",
              "    <tr>\n",
              "      <th>1</th>\n",
              "      <td>PROP000002</td>\n",
              "      <td>Indiranagar</td>\n",
              "      <td>Project_1</td>\n",
              "      <td>Puravankara</td>\n",
              "      <td>5760</td>\n",
              "      <td>3BHK</td>\n",
              "      <td>16.292152</td>\n",
              "      <td>Primary</td>\n",
              "      <td>Other</td>\n",
              "      <td>2024-06-30</td>\n",
              "      <td>...</td>\n",
              "      <td>7.503663</td>\n",
              "      <td>Under construction</td>\n",
              "      <td>NRI Desk</td>\n",
              "      <td>False</td>\n",
              "      <td>7.723898</td>\n",
              "      <td>106</td>\n",
              "      <td>No comments</td>\n",
              "      <td>28284.985885</td>\n",
              "      <td>2</td>\n",
              "      <td>0</td>\n",
              "    </tr>\n",
              "    <tr>\n",
              "      <th>2</th>\n",
              "      <td>PROP000003</td>\n",
              "      <td>Bannerghatta Road</td>\n",
              "      <td>Project_2</td>\n",
              "      <td>Tata Housing</td>\n",
              "      <td>7707</td>\n",
              "      <td>4BHK</td>\n",
              "      <td>10.517724</td>\n",
              "      <td>Primary</td>\n",
              "      <td>HNI</td>\n",
              "      <td>2023-12-31</td>\n",
              "      <td>...</td>\n",
              "      <td>8.669227</td>\n",
              "      <td>Ready to move</td>\n",
              "      <td>Direct</td>\n",
              "      <td>True</td>\n",
              "      <td>6.985493</td>\n",
              "      <td>113</td>\n",
              "      <td>Agent was not responsive.</td>\n",
              "      <td>13646.976009</td>\n",
              "      <td>4</td>\n",
              "      <td>0</td>\n",
              "    </tr>\n",
              "    <tr>\n",
              "      <th>3</th>\n",
              "      <td>PROP000004</td>\n",
              "      <td>Bellary Road</td>\n",
              "      <td>Project_3</td>\n",
              "      <td>Embassy</td>\n",
              "      <td>6192</td>\n",
              "      <td>3BHK</td>\n",
              "      <td>9.396367</td>\n",
              "      <td>Primary</td>\n",
              "      <td>HNI</td>\n",
              "      <td>2024-03-31</td>\n",
              "      <td>...</td>\n",
              "      <td>5.720246</td>\n",
              "      <td>Ready to move</td>\n",
              "      <td>Online</td>\n",
              "      <td>True</td>\n",
              "      <td>6.100929</td>\n",
              "      <td>106</td>\n",
              "      <td>Excellent location!</td>\n",
              "      <td>15175.012103</td>\n",
              "      <td>1</td>\n",
              "      <td>0</td>\n",
              "    </tr>\n",
              "    <tr>\n",
              "      <th>4</th>\n",
              "      <td>PROP000005</td>\n",
              "      <td>Koramangala</td>\n",
              "      <td>Project_4</td>\n",
              "      <td>SNN Raj</td>\n",
              "      <td>7147</td>\n",
              "      <td>4BHK</td>\n",
              "      <td>15.345392</td>\n",
              "      <td>Secondary</td>\n",
              "      <td>HNI</td>\n",
              "      <td>2024-12-31</td>\n",
              "      <td>...</td>\n",
              "      <td>8.609649</td>\n",
              "      <td>Under construction</td>\n",
              "      <td>Broker</td>\n",
              "      <td>False</td>\n",
              "      <td>5.312510</td>\n",
              "      <td>18</td>\n",
              "      <td>Too far from my office.</td>\n",
              "      <td>21471.096180</td>\n",
              "      <td>4</td>\n",
              "      <td>0</td>\n",
              "    </tr>\n",
              "    <tr>\n",
              "      <th>...</th>\n",
              "      <td>...</td>\n",
              "      <td>...</td>\n",
              "      <td>...</td>\n",
              "      <td>...</td>\n",
              "      <td>...</td>\n",
              "      <td>...</td>\n",
              "      <td>...</td>\n",
              "      <td>...</td>\n",
              "      <td>...</td>\n",
              "      <td>...</td>\n",
              "      <td>...</td>\n",
              "      <td>...</td>\n",
              "      <td>...</td>\n",
              "      <td>...</td>\n",
              "      <td>...</td>\n",
              "      <td>...</td>\n",
              "      <td>...</td>\n",
              "      <td>...</td>\n",
              "      <td>...</td>\n",
              "      <td>...</td>\n",
              "      <td>...</td>\n",
              "    </tr>\n",
              "    <tr>\n",
              "      <th>100995</th>\n",
              "      <td>PROP004730</td>\n",
              "      <td>Bellary Road</td>\n",
              "      <td>Project_229</td>\n",
              "      <td>Embassy</td>\n",
              "      <td>8546</td>\n",
              "      <td>5BHK+</td>\n",
              "      <td>11.330810</td>\n",
              "      <td>Secondary</td>\n",
              "      <td>CXO</td>\n",
              "      <td>2024-12-31</td>\n",
              "      <td>...</td>\n",
              "      <td>6.221131</td>\n",
              "      <td>Under construction</td>\n",
              "      <td>NRI Desk</td>\n",
              "      <td>False</td>\n",
              "      <td>7.511827</td>\n",
              "      <td>22</td>\n",
              "      <td>Will buy after possession.</td>\n",
              "      <td>13258.612263</td>\n",
              "      <td>4</td>\n",
              "      <td>0</td>\n",
              "    </tr>\n",
              "    <tr>\n",
              "      <th>100996</th>\n",
              "      <td>PROP059810</td>\n",
              "      <td>Bellary Road</td>\n",
              "      <td>Project_309</td>\n",
              "      <td>Brigade</td>\n",
              "      <td>3408</td>\n",
              "      <td>3BHK</td>\n",
              "      <td>10.829373</td>\n",
              "      <td>Primary</td>\n",
              "      <td>CXO</td>\n",
              "      <td>2024-09-30</td>\n",
              "      <td>...</td>\n",
              "      <td>9.783611</td>\n",
              "      <td>Ready to move</td>\n",
              "      <td>Direct</td>\n",
              "      <td>False</td>\n",
              "      <td>9.851849</td>\n",
              "      <td>26</td>\n",
              "      <td>Agent was not responsive.</td>\n",
              "      <td>31776.329695</td>\n",
              "      <td>3</td>\n",
              "      <td>0</td>\n",
              "    </tr>\n",
              "    <tr>\n",
              "      <th>100997</th>\n",
              "      <td>PROP065099</td>\n",
              "      <td>Hennur Road</td>\n",
              "      <td>Project_98</td>\n",
              "      <td>RMZ</td>\n",
              "      <td>4691</td>\n",
              "      <td>4BHK</td>\n",
              "      <td>11.183303</td>\n",
              "      <td>Primary</td>\n",
              "      <td>NRI</td>\n",
              "      <td>2023-12-31</td>\n",
              "      <td>...</td>\n",
              "      <td>8.383013</td>\n",
              "      <td>Under construction</td>\n",
              "      <td>Broker</td>\n",
              "      <td>False</td>\n",
              "      <td>9.101604</td>\n",
              "      <td>44</td>\n",
              "      <td>Loved the amenities!</td>\n",
              "      <td>23839.912918</td>\n",
              "      <td>4</td>\n",
              "      <td>0</td>\n",
              "    </tr>\n",
              "    <tr>\n",
              "      <th>100998</th>\n",
              "      <td>PROP093022</td>\n",
              "      <td>Rajajinagar</td>\n",
              "      <td>Project_21</td>\n",
              "      <td>Embassy</td>\n",
              "      <td>7435</td>\n",
              "      <td>3BHK</td>\n",
              "      <td>10.914156</td>\n",
              "      <td>Secondary</td>\n",
              "      <td>Other</td>\n",
              "      <td>2024-06-30</td>\n",
              "      <td>...</td>\n",
              "      <td>5.756247</td>\n",
              "      <td>Under construction</td>\n",
              "      <td>Broker</td>\n",
              "      <td>True</td>\n",
              "      <td>8.588551</td>\n",
              "      <td>66</td>\n",
              "      <td>Excellent location!</td>\n",
              "      <td>14679.430235</td>\n",
              "      <td>2</td>\n",
              "      <td>0</td>\n",
              "    </tr>\n",
              "    <tr>\n",
              "      <th>100999</th>\n",
              "      <td>PROP023826</td>\n",
              "      <td>Whitefield</td>\n",
              "      <td>Project_325</td>\n",
              "      <td>L&amp;T Realty</td>\n",
              "      <td>3218</td>\n",
              "      <td>4BHK</td>\n",
              "      <td>13.270000</td>\n",
              "      <td>Primary</td>\n",
              "      <td>Startup Founder</td>\n",
              "      <td>2023-12-31</td>\n",
              "      <td>...</td>\n",
              "      <td>9.989290</td>\n",
              "      <td>Under construction</td>\n",
              "      <td>Direct</td>\n",
              "      <td>True</td>\n",
              "      <td>9.917647</td>\n",
              "      <td>58</td>\n",
              "      <td>Loved the amenities!</td>\n",
              "      <td>41236.793039</td>\n",
              "      <td>4</td>\n",
              "      <td>0</td>\n",
              "    </tr>\n",
              "  </tbody>\n",
              "</table>\n",
              "<p>101000 rows × 21 columns</p>\n",
              "</div>\n",
              "    <div class=\"colab-df-buttons\">\n",
              "\n",
              "  <div class=\"colab-df-container\">\n",
              "    <button class=\"colab-df-convert\" onclick=\"convertToInteractive('df-6d27d156-3112-42fd-92bb-77d1135e44a3')\"\n",
              "            title=\"Convert this dataframe to an interactive table.\"\n",
              "            style=\"display:none;\">\n",
              "\n",
              "  <svg xmlns=\"http://www.w3.org/2000/svg\" height=\"24px\" viewBox=\"0 -960 960 960\">\n",
              "    <path d=\"M120-120v-720h720v720H120Zm60-500h600v-160H180v160Zm220 220h160v-160H400v160Zm0 220h160v-160H400v160ZM180-400h160v-160H180v160Zm440 0h160v-160H620v160ZM180-180h160v-160H180v160Zm440 0h160v-160H620v160Z\"/>\n",
              "  </svg>\n",
              "    </button>\n",
              "\n",
              "  <style>\n",
              "    .colab-df-container {\n",
              "      display:flex;\n",
              "      gap: 12px;\n",
              "    }\n",
              "\n",
              "    .colab-df-convert {\n",
              "      background-color: #E8F0FE;\n",
              "      border: none;\n",
              "      border-radius: 50%;\n",
              "      cursor: pointer;\n",
              "      display: none;\n",
              "      fill: #1967D2;\n",
              "      height: 32px;\n",
              "      padding: 0 0 0 0;\n",
              "      width: 32px;\n",
              "    }\n",
              "\n",
              "    .colab-df-convert:hover {\n",
              "      background-color: #E2EBFA;\n",
              "      box-shadow: 0px 1px 2px rgba(60, 64, 67, 0.3), 0px 1px 3px 1px rgba(60, 64, 67, 0.15);\n",
              "      fill: #174EA6;\n",
              "    }\n",
              "\n",
              "    .colab-df-buttons div {\n",
              "      margin-bottom: 4px;\n",
              "    }\n",
              "\n",
              "    [theme=dark] .colab-df-convert {\n",
              "      background-color: #3B4455;\n",
              "      fill: #D2E3FC;\n",
              "    }\n",
              "\n",
              "    [theme=dark] .colab-df-convert:hover {\n",
              "      background-color: #434B5C;\n",
              "      box-shadow: 0px 1px 3px 1px rgba(0, 0, 0, 0.15);\n",
              "      filter: drop-shadow(0px 1px 2px rgba(0, 0, 0, 0.3));\n",
              "      fill: #FFFFFF;\n",
              "    }\n",
              "  </style>\n",
              "\n",
              "    <script>\n",
              "      const buttonEl =\n",
              "        document.querySelector('#df-6d27d156-3112-42fd-92bb-77d1135e44a3 button.colab-df-convert');\n",
              "      buttonEl.style.display =\n",
              "        google.colab.kernel.accessAllowed ? 'block' : 'none';\n",
              "\n",
              "      async function convertToInteractive(key) {\n",
              "        const element = document.querySelector('#df-6d27d156-3112-42fd-92bb-77d1135e44a3');\n",
              "        const dataTable =\n",
              "          await google.colab.kernel.invokeFunction('convertToInteractive',\n",
              "                                                    [key], {});\n",
              "        if (!dataTable) return;\n",
              "\n",
              "        const docLinkHtml = 'Like what you see? Visit the ' +\n",
              "          '<a target=\"_blank\" href=https://colab.research.google.com/notebooks/data_table.ipynb>data table notebook</a>'\n",
              "          + ' to learn more about interactive tables.';\n",
              "        element.innerHTML = '';\n",
              "        dataTable['output_type'] = 'display_data';\n",
              "        await google.colab.output.renderOutput(dataTable, element);\n",
              "        const docLink = document.createElement('div');\n",
              "        docLink.innerHTML = docLinkHtml;\n",
              "        element.appendChild(docLink);\n",
              "      }\n",
              "    </script>\n",
              "  </div>\n",
              "\n",
              "\n",
              "    <div id=\"df-a58ba324-92a8-44bc-bce1-213aeca97716\">\n",
              "      <button class=\"colab-df-quickchart\" onclick=\"quickchart('df-a58ba324-92a8-44bc-bce1-213aeca97716')\"\n",
              "                title=\"Suggest charts\"\n",
              "                style=\"display:none;\">\n",
              "\n",
              "<svg xmlns=\"http://www.w3.org/2000/svg\" height=\"24px\"viewBox=\"0 0 24 24\"\n",
              "     width=\"24px\">\n",
              "    <g>\n",
              "        <path d=\"M19 3H5c-1.1 0-2 .9-2 2v14c0 1.1.9 2 2 2h14c1.1 0 2-.9 2-2V5c0-1.1-.9-2-2-2zM9 17H7v-7h2v7zm4 0h-2V7h2v10zm4 0h-2v-4h2v4z\"/>\n",
              "    </g>\n",
              "</svg>\n",
              "      </button>\n",
              "\n",
              "<style>\n",
              "  .colab-df-quickchart {\n",
              "      --bg-color: #E8F0FE;\n",
              "      --fill-color: #1967D2;\n",
              "      --hover-bg-color: #E2EBFA;\n",
              "      --hover-fill-color: #174EA6;\n",
              "      --disabled-fill-color: #AAA;\n",
              "      --disabled-bg-color: #DDD;\n",
              "  }\n",
              "\n",
              "  [theme=dark] .colab-df-quickchart {\n",
              "      --bg-color: #3B4455;\n",
              "      --fill-color: #D2E3FC;\n",
              "      --hover-bg-color: #434B5C;\n",
              "      --hover-fill-color: #FFFFFF;\n",
              "      --disabled-bg-color: #3B4455;\n",
              "      --disabled-fill-color: #666;\n",
              "  }\n",
              "\n",
              "  .colab-df-quickchart {\n",
              "    background-color: var(--bg-color);\n",
              "    border: none;\n",
              "    border-radius: 50%;\n",
              "    cursor: pointer;\n",
              "    display: none;\n",
              "    fill: var(--fill-color);\n",
              "    height: 32px;\n",
              "    padding: 0;\n",
              "    width: 32px;\n",
              "  }\n",
              "\n",
              "  .colab-df-quickchart:hover {\n",
              "    background-color: var(--hover-bg-color);\n",
              "    box-shadow: 0 1px 2px rgba(60, 64, 67, 0.3), 0 1px 3px 1px rgba(60, 64, 67, 0.15);\n",
              "    fill: var(--button-hover-fill-color);\n",
              "  }\n",
              "\n",
              "  .colab-df-quickchart-complete:disabled,\n",
              "  .colab-df-quickchart-complete:disabled:hover {\n",
              "    background-color: var(--disabled-bg-color);\n",
              "    fill: var(--disabled-fill-color);\n",
              "    box-shadow: none;\n",
              "  }\n",
              "\n",
              "  .colab-df-spinner {\n",
              "    border: 2px solid var(--fill-color);\n",
              "    border-color: transparent;\n",
              "    border-bottom-color: var(--fill-color);\n",
              "    animation:\n",
              "      spin 1s steps(1) infinite;\n",
              "  }\n",
              "\n",
              "  @keyframes spin {\n",
              "    0% {\n",
              "      border-color: transparent;\n",
              "      border-bottom-color: var(--fill-color);\n",
              "      border-left-color: var(--fill-color);\n",
              "    }\n",
              "    20% {\n",
              "      border-color: transparent;\n",
              "      border-left-color: var(--fill-color);\n",
              "      border-top-color: var(--fill-color);\n",
              "    }\n",
              "    30% {\n",
              "      border-color: transparent;\n",
              "      border-left-color: var(--fill-color);\n",
              "      border-top-color: var(--fill-color);\n",
              "      border-right-color: var(--fill-color);\n",
              "    }\n",
              "    40% {\n",
              "      border-color: transparent;\n",
              "      border-right-color: var(--fill-color);\n",
              "      border-top-color: var(--fill-color);\n",
              "    }\n",
              "    60% {\n",
              "      border-color: transparent;\n",
              "      border-right-color: var(--fill-color);\n",
              "    }\n",
              "    80% {\n",
              "      border-color: transparent;\n",
              "      border-right-color: var(--fill-color);\n",
              "      border-bottom-color: var(--fill-color);\n",
              "    }\n",
              "    90% {\n",
              "      border-color: transparent;\n",
              "      border-bottom-color: var(--fill-color);\n",
              "    }\n",
              "  }\n",
              "</style>\n",
              "\n",
              "      <script>\n",
              "        async function quickchart(key) {\n",
              "          const quickchartButtonEl =\n",
              "            document.querySelector('#' + key + ' button');\n",
              "          quickchartButtonEl.disabled = true;  // To prevent multiple clicks.\n",
              "          quickchartButtonEl.classList.add('colab-df-spinner');\n",
              "          try {\n",
              "            const charts = await google.colab.kernel.invokeFunction(\n",
              "                'suggestCharts', [key], {});\n",
              "          } catch (error) {\n",
              "            console.error('Error during call to suggestCharts:', error);\n",
              "          }\n",
              "          quickchartButtonEl.classList.remove('colab-df-spinner');\n",
              "          quickchartButtonEl.classList.add('colab-df-quickchart-complete');\n",
              "        }\n",
              "        (() => {\n",
              "          let quickchartButtonEl =\n",
              "            document.querySelector('#df-a58ba324-92a8-44bc-bce1-213aeca97716 button');\n",
              "          quickchartButtonEl.style.display =\n",
              "            google.colab.kernel.accessAllowed ? 'block' : 'none';\n",
              "        })();\n",
              "      </script>\n",
              "    </div>\n",
              "\n",
              "  <div id=\"id_297bf200-6d0c-44a5-842c-2dfdf04ed426\">\n",
              "    <style>\n",
              "      .colab-df-generate {\n",
              "        background-color: #E8F0FE;\n",
              "        border: none;\n",
              "        border-radius: 50%;\n",
              "        cursor: pointer;\n",
              "        display: none;\n",
              "        fill: #1967D2;\n",
              "        height: 32px;\n",
              "        padding: 0 0 0 0;\n",
              "        width: 32px;\n",
              "      }\n",
              "\n",
              "      .colab-df-generate:hover {\n",
              "        background-color: #E2EBFA;\n",
              "        box-shadow: 0px 1px 2px rgba(60, 64, 67, 0.3), 0px 1px 3px 1px rgba(60, 64, 67, 0.15);\n",
              "        fill: #174EA6;\n",
              "      }\n",
              "\n",
              "      [theme=dark] .colab-df-generate {\n",
              "        background-color: #3B4455;\n",
              "        fill: #D2E3FC;\n",
              "      }\n",
              "\n",
              "      [theme=dark] .colab-df-generate:hover {\n",
              "        background-color: #434B5C;\n",
              "        box-shadow: 0px 1px 3px 1px rgba(0, 0, 0, 0.15);\n",
              "        filter: drop-shadow(0px 1px 2px rgba(0, 0, 0, 0.3));\n",
              "        fill: #FFFFFF;\n",
              "      }\n",
              "    </style>\n",
              "    <button class=\"colab-df-generate\" onclick=\"generateWithVariable('df')\"\n",
              "            title=\"Generate code using this dataframe.\"\n",
              "            style=\"display:none;\">\n",
              "\n",
              "  <svg xmlns=\"http://www.w3.org/2000/svg\" height=\"24px\"viewBox=\"0 0 24 24\"\n",
              "       width=\"24px\">\n",
              "    <path d=\"M7,19H8.4L18.45,9,17,7.55,7,17.6ZM5,21V16.75L18.45,3.32a2,2,0,0,1,2.83,0l1.4,1.43a1.91,1.91,0,0,1,.58,1.4,1.91,1.91,0,0,1-.58,1.4L9.25,21ZM18.45,9,17,7.55Zm-12,3A5.31,5.31,0,0,0,4.9,8.1,5.31,5.31,0,0,0,1,6.5,5.31,5.31,0,0,0,4.9,4.9,5.31,5.31,0,0,0,6.5,1,5.31,5.31,0,0,0,8.1,4.9,5.31,5.31,0,0,0,12,6.5,5.46,5.46,0,0,0,6.5,12Z\"/>\n",
              "  </svg>\n",
              "    </button>\n",
              "    <script>\n",
              "      (() => {\n",
              "      const buttonEl =\n",
              "        document.querySelector('#id_297bf200-6d0c-44a5-842c-2dfdf04ed426 button.colab-df-generate');\n",
              "      buttonEl.style.display =\n",
              "        google.colab.kernel.accessAllowed ? 'block' : 'none';\n",
              "\n",
              "      buttonEl.onclick = () => {\n",
              "        google.colab.notebook.generateWithVariable('df');\n",
              "      }\n",
              "      })();\n",
              "    </script>\n",
              "  </div>\n",
              "\n",
              "    </div>\n",
              "  </div>\n"
            ],
            "application/vnd.google.colaboratory.intrinsic+json": {
              "type": "dataframe",
              "variable_name": "df"
            }
          },
          "metadata": {},
          "execution_count": 72
        }
      ]
    },
    {
      "cell_type": "code",
      "source": [
        "df.duplicated().sum()"
      ],
      "metadata": {
        "colab": {
          "base_uri": "https://localhost:8080/"
        },
        "id": "DFD0vBXCErDv",
        "outputId": "3e8ee347-0435-4025-8b04-aa2ef6a1609a"
      },
      "execution_count": 73,
      "outputs": [
        {
          "output_type": "execute_result",
          "data": {
            "text/plain": [
              "np.int64(1000)"
            ]
          },
          "metadata": {},
          "execution_count": 73
        }
      ]
    },
    {
      "cell_type": "code",
      "source": [
        "df.drop_duplicates(inplace= True)"
      ],
      "metadata": {
        "id": "1-af-oEZEvie"
      },
      "execution_count": 74,
      "outputs": []
    },
    {
      "cell_type": "code",
      "source": [
        "df.duplicated().sum()"
      ],
      "metadata": {
        "colab": {
          "base_uri": "https://localhost:8080/"
        },
        "id": "HAAxIa-lExvz",
        "outputId": "4832193a-9bf4-4446-8f80-4fa0d99c4311"
      },
      "execution_count": 75,
      "outputs": [
        {
          "output_type": "execute_result",
          "data": {
            "text/plain": [
              "np.int64(0)"
            ]
          },
          "metadata": {},
          "execution_count": 75
        }
      ]
    },
    {
      "cell_type": "code",
      "source": [
        "df.dtypes"
      ],
      "metadata": {
        "colab": {
          "base_uri": "https://localhost:8080/",
          "height": 742
        },
        "id": "8L2iKhu5Ezti",
        "outputId": "00e23237-7920-432d-85b8-a0ff3129f9ec"
      },
      "execution_count": 76,
      "outputs": [
        {
          "output_type": "execute_result",
          "data": {
            "text/plain": [
              "Project_ID                      object\n",
              "Micro_Market                    object\n",
              "Project_Name                    object\n",
              "Builder                         object\n",
              "Unit_Size_Sqft                   int64\n",
              "Configuration                   object\n",
              "Ticket_Price_Cr                float64\n",
              "Transaction_Type                object\n",
              "Buyer_Type                      object\n",
              "Purchase_Quarter        datetime64[ns]\n",
              "Connectivity_Score             float64\n",
              "Amenity_Score                  float64\n",
              "Possession_Status               object\n",
              "Sales_Channel                   object\n",
              "NRI_Buyer                         bool\n",
              "Locality_Infra_Score           float64\n",
              "Avg_Traffic_Time_Min             int64\n",
              "Buyer_Comments                  object\n",
              "Price_per_Sqft                 float64\n",
              "Quarter_Number                   int64\n",
              "Booking_Status                   int64\n",
              "dtype: object"
            ],
            "text/html": [
              "<div>\n",
              "<style scoped>\n",
              "    .dataframe tbody tr th:only-of-type {\n",
              "        vertical-align: middle;\n",
              "    }\n",
              "\n",
              "    .dataframe tbody tr th {\n",
              "        vertical-align: top;\n",
              "    }\n",
              "\n",
              "    .dataframe thead th {\n",
              "        text-align: right;\n",
              "    }\n",
              "</style>\n",
              "<table border=\"1\" class=\"dataframe\">\n",
              "  <thead>\n",
              "    <tr style=\"text-align: right;\">\n",
              "      <th></th>\n",
              "      <th>0</th>\n",
              "    </tr>\n",
              "  </thead>\n",
              "  <tbody>\n",
              "    <tr>\n",
              "      <th>Project_ID</th>\n",
              "      <td>object</td>\n",
              "    </tr>\n",
              "    <tr>\n",
              "      <th>Micro_Market</th>\n",
              "      <td>object</td>\n",
              "    </tr>\n",
              "    <tr>\n",
              "      <th>Project_Name</th>\n",
              "      <td>object</td>\n",
              "    </tr>\n",
              "    <tr>\n",
              "      <th>Builder</th>\n",
              "      <td>object</td>\n",
              "    </tr>\n",
              "    <tr>\n",
              "      <th>Unit_Size_Sqft</th>\n",
              "      <td>int64</td>\n",
              "    </tr>\n",
              "    <tr>\n",
              "      <th>Configuration</th>\n",
              "      <td>object</td>\n",
              "    </tr>\n",
              "    <tr>\n",
              "      <th>Ticket_Price_Cr</th>\n",
              "      <td>float64</td>\n",
              "    </tr>\n",
              "    <tr>\n",
              "      <th>Transaction_Type</th>\n",
              "      <td>object</td>\n",
              "    </tr>\n",
              "    <tr>\n",
              "      <th>Buyer_Type</th>\n",
              "      <td>object</td>\n",
              "    </tr>\n",
              "    <tr>\n",
              "      <th>Purchase_Quarter</th>\n",
              "      <td>datetime64[ns]</td>\n",
              "    </tr>\n",
              "    <tr>\n",
              "      <th>Connectivity_Score</th>\n",
              "      <td>float64</td>\n",
              "    </tr>\n",
              "    <tr>\n",
              "      <th>Amenity_Score</th>\n",
              "      <td>float64</td>\n",
              "    </tr>\n",
              "    <tr>\n",
              "      <th>Possession_Status</th>\n",
              "      <td>object</td>\n",
              "    </tr>\n",
              "    <tr>\n",
              "      <th>Sales_Channel</th>\n",
              "      <td>object</td>\n",
              "    </tr>\n",
              "    <tr>\n",
              "      <th>NRI_Buyer</th>\n",
              "      <td>bool</td>\n",
              "    </tr>\n",
              "    <tr>\n",
              "      <th>Locality_Infra_Score</th>\n",
              "      <td>float64</td>\n",
              "    </tr>\n",
              "    <tr>\n",
              "      <th>Avg_Traffic_Time_Min</th>\n",
              "      <td>int64</td>\n",
              "    </tr>\n",
              "    <tr>\n",
              "      <th>Buyer_Comments</th>\n",
              "      <td>object</td>\n",
              "    </tr>\n",
              "    <tr>\n",
              "      <th>Price_per_Sqft</th>\n",
              "      <td>float64</td>\n",
              "    </tr>\n",
              "    <tr>\n",
              "      <th>Quarter_Number</th>\n",
              "      <td>int64</td>\n",
              "    </tr>\n",
              "    <tr>\n",
              "      <th>Booking_Status</th>\n",
              "      <td>int64</td>\n",
              "    </tr>\n",
              "  </tbody>\n",
              "</table>\n",
              "</div><br><label><b>dtype:</b> object</label>"
            ]
          },
          "metadata": {},
          "execution_count": 76
        }
      ]
    },
    {
      "cell_type": "code",
      "source": [
        "df.to_csv(\"cleaned_luxury_housing.csv\", index=False)"
      ],
      "metadata": {
        "id": "ZksGFi8wFA8K"
      },
      "execution_count": 77,
      "outputs": []
    },
    {
      "cell_type": "code",
      "source": [
        "luxury_housing_sales = df"
      ],
      "metadata": {
        "id": "VFhKvY0uYyIg"
      },
      "execution_count": 78,
      "outputs": []
    },
    {
      "cell_type": "code",
      "source": [
        "!pip install pymysql"
      ],
      "metadata": {
        "colab": {
          "base_uri": "https://localhost:8080/"
        },
        "id": "is53a0n9Zw_L",
        "outputId": "5270c0bf-a835-4392-bb8a-4f2feb27bc5f"
      },
      "execution_count": 79,
      "outputs": [
        {
          "output_type": "stream",
          "name": "stdout",
          "text": [
            "Requirement already satisfied: pymysql in /usr/local/lib/python3.12/dist-packages (1.1.2)\n"
          ]
        }
      ]
    },
    {
      "cell_type": "code",
      "source": [
        "!pip install mysql-connector-python"
      ],
      "metadata": {
        "colab": {
          "base_uri": "https://localhost:8080/"
        },
        "id": "1jEWnWz5Zz8Q",
        "outputId": "63802072-a44a-4349-9868-6b37d9d0c691"
      },
      "execution_count": 80,
      "outputs": [
        {
          "output_type": "stream",
          "name": "stdout",
          "text": [
            "Requirement already satisfied: mysql-connector-python in /usr/local/lib/python3.12/dist-packages (9.4.0)\n"
          ]
        }
      ]
    },
    {
      "cell_type": "code",
      "source": [],
      "metadata": {
        "id": "bCoXKke0bkxP"
      },
      "execution_count": 80,
      "outputs": []
    },
    {
      "cell_type": "code",
      "source": [
        "!apt-get update\n",
        "!apt-get install -y mysql-server\n",
        "!service mysql start"
      ],
      "metadata": {
        "colab": {
          "base_uri": "https://localhost:8080/"
        },
        "id": "s2sIoApKcagv",
        "outputId": "32cc84e0-f01b-4c73-e3f8-6489693a78ee"
      },
      "execution_count": 81,
      "outputs": [
        {
          "output_type": "stream",
          "name": "stdout",
          "text": [
            "\r0% [Working]\r            \rHit:1 https://cli.github.com/packages stable InRelease\n",
            "\r0% [Connecting to archive.ubuntu.com (185.125.190.83)] [Connecting to security.\r                                                                               \rHit:2 http://security.ubuntu.com/ubuntu jammy-security InRelease\n",
            "\r0% [Connecting to archive.ubuntu.com (185.125.190.83)] [Waiting for headers] [C\r                                                                               \rHit:3 https://developer.download.nvidia.com/compute/cuda/repos/ubuntu2204/x86_64  InRelease\n",
            "Hit:4 https://cloud.r-project.org/bin/linux/ubuntu jammy-cran40/ InRelease\n",
            "Hit:5 http://archive.ubuntu.com/ubuntu jammy InRelease\n",
            "Hit:6 https://r2u.stat.illinois.edu/ubuntu jammy InRelease\n",
            "Get:7 http://archive.ubuntu.com/ubuntu jammy-updates InRelease [128 kB]\n",
            "Hit:8 https://ppa.launchpadcontent.net/deadsnakes/ppa/ubuntu jammy InRelease\n",
            "Hit:9 https://ppa.launchpadcontent.net/graphics-drivers/ppa/ubuntu jammy InRelease\n",
            "Hit:10 http://archive.ubuntu.com/ubuntu jammy-backports InRelease\n",
            "Hit:11 https://ppa.launchpadcontent.net/ubuntugis/ppa/ubuntu jammy InRelease\n",
            "Fetched 128 kB in 2s (80.8 kB/s)\n",
            "Reading package lists... Done\n",
            "W: Skipping acquire of configured file 'main/source/Sources' as repository 'https://r2u.stat.illinois.edu/ubuntu jammy InRelease' does not seem to provide it (sources.list entry misspelt?)\n",
            "Reading package lists... Done\n",
            "Building dependency tree... Done\n",
            "Reading state information... Done\n",
            "mysql-server is already the newest version (8.0.43-0ubuntu0.22.04.1).\n",
            "0 upgraded, 0 newly installed, 0 to remove and 49 not upgraded.\n",
            " * Starting MySQL database server mysqld\n",
            "   ...done.\n"
          ]
        }
      ]
    },
    {
      "cell_type": "code",
      "source": [
        "df = pd.read_csv(\"/content/cleaned_luxury_housing.csv\")\n",
        "df.head()\n",
        "df.info()\n"
      ],
      "metadata": {
        "colab": {
          "base_uri": "https://localhost:8080/"
        },
        "id": "ZLFHDKtzhZSt",
        "outputId": "d12bc500-5103-4b33-afbf-ed2ed8e08007"
      },
      "execution_count": 91,
      "outputs": [
        {
          "output_type": "stream",
          "name": "stdout",
          "text": [
            "<class 'pandas.core.frame.DataFrame'>\n",
            "RangeIndex: 100000 entries, 0 to 99999\n",
            "Data columns (total 21 columns):\n",
            " #   Column                Non-Null Count   Dtype  \n",
            "---  ------                --------------   -----  \n",
            " 0   Project_ID            100000 non-null  object \n",
            " 1   Micro_Market          100000 non-null  object \n",
            " 2   Project_Name          100000 non-null  object \n",
            " 3   Builder               100000 non-null  object \n",
            " 4   Unit_Size_Sqft        100000 non-null  int64  \n",
            " 5   Configuration         100000 non-null  object \n",
            " 6   Ticket_Price_Cr       100000 non-null  float64\n",
            " 7   Transaction_Type      100000 non-null  object \n",
            " 8   Buyer_Type            100000 non-null  object \n",
            " 9   Purchase_Quarter      100000 non-null  object \n",
            " 10  Connectivity_Score    100000 non-null  float64\n",
            " 11  Amenity_Score         100000 non-null  float64\n",
            " 12  Possession_Status     100000 non-null  object \n",
            " 13  Sales_Channel         100000 non-null  object \n",
            " 14  NRI_Buyer             100000 non-null  bool   \n",
            " 15  Locality_Infra_Score  100000 non-null  float64\n",
            " 16  Avg_Traffic_Time_Min  100000 non-null  int64  \n",
            " 17  Buyer_Comments        100000 non-null  object \n",
            " 18  Price_per_Sqft        100000 non-null  float64\n",
            " 19  Quarter_Number        100000 non-null  int64  \n",
            " 20  Booking_Status        100000 non-null  int64  \n",
            "dtypes: bool(1), float64(5), int64(4), object(11)\n",
            "memory usage: 15.4+ MB\n"
          ]
        }
      ]
    }
  ]
}